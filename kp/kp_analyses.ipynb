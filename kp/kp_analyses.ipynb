{
 "cells": [
  {
   "cell_type": "markdown",
   "id": "db634f58",
   "metadata": {},
   "source": [
    "## Setup"
   ]
  },
  {
   "cell_type": "code",
   "execution_count": 1,
   "id": "cb9c0159",
   "metadata": {},
   "outputs": [],
   "source": [
    "# set working directory\n",
    "setwd(\"/Genomics/pritykinlab/adina/bulkrna-differential-analysis/kp\")"
   ]
  },
  {
   "cell_type": "code",
   "execution_count": 2,
   "id": "438becf1",
   "metadata": {},
   "outputs": [
    {
     "name": "stderr",
     "output_type": "stream",
     "text": [
      "Loading required package: MatrixGenerics\n",
      "\n",
      "Loading required package: matrixStats\n",
      "\n",
      "\n",
      "Attaching package: ‘MatrixGenerics’\n",
      "\n",
      "\n",
      "The following objects are masked from ‘package:matrixStats’:\n",
      "\n",
      "    colAlls, colAnyNAs, colAnys, colAvgsPerRowSet, colCollapse,\n",
      "    colCounts, colCummaxs, colCummins, colCumprods, colCumsums,\n",
      "    colDiffs, colIQRDiffs, colIQRs, colLogSumExps, colMadDiffs,\n",
      "    colMads, colMaxs, colMeans2, colMedians, colMins, colOrderStats,\n",
      "    colProds, colQuantiles, colRanges, colRanks, colSdDiffs, colSds,\n",
      "    colSums2, colTabulates, colVarDiffs, colVars, colWeightedMads,\n",
      "    colWeightedMeans, colWeightedMedians, colWeightedSds,\n",
      "    colWeightedVars, rowAlls, rowAnyNAs, rowAnys, rowAvgsPerColSet,\n",
      "    rowCollapse, rowCounts, rowCummaxs, rowCummins, rowCumprods,\n",
      "    rowCumsums, rowDiffs, rowIQRDiffs, rowIQRs, rowLogSumExps,\n",
      "    rowMadDiffs, rowMads, rowMaxs, rowMeans2, rowMedians, rowMins,\n",
      "    rowOrderStats, rowProds, rowQuantiles, rowRanges, rowRanks,\n",
      "    rowSdDiffs, rowSds, rowSums2, rowTabulates, rowVarDiffs, rowVars,\n",
      "    rowWeightedMads, rowWeightedMeans, rowWeightedMedians,\n",
      "    rowWeightedSds, rowWeightedVars\n",
      "\n",
      "\n",
      "Loading required package: GenomicRanges\n",
      "\n",
      "Loading required package: stats4\n",
      "\n",
      "Loading required package: BiocGenerics\n",
      "\n",
      "\n",
      "Attaching package: ‘BiocGenerics’\n",
      "\n",
      "\n",
      "The following objects are masked from ‘package:stats’:\n",
      "\n",
      "    IQR, mad, sd, var, xtabs\n",
      "\n",
      "\n",
      "The following objects are masked from ‘package:base’:\n",
      "\n",
      "    anyDuplicated, append, as.data.frame, basename, cbind, colnames,\n",
      "    dirname, do.call, duplicated, eval, evalq, Filter, Find, get, grep,\n",
      "    grepl, intersect, is.unsorted, lapply, Map, mapply, match, mget,\n",
      "    order, paste, pmax, pmax.int, pmin, pmin.int, Position, rank,\n",
      "    rbind, Reduce, rownames, sapply, setdiff, sort, table, tapply,\n",
      "    union, unique, unsplit, which.max, which.min\n",
      "\n",
      "\n",
      "Loading required package: S4Vectors\n",
      "\n",
      "\n",
      "Attaching package: ‘S4Vectors’\n",
      "\n",
      "\n",
      "The following objects are masked from ‘package:base’:\n",
      "\n",
      "    expand.grid, I, unname\n",
      "\n",
      "\n",
      "Loading required package: IRanges\n",
      "\n",
      "Loading required package: GenomeInfoDb\n",
      "\n",
      "Loading required package: Biobase\n",
      "\n",
      "Welcome to Bioconductor\n",
      "\n",
      "    Vignettes contain introductory material; view with\n",
      "    'browseVignettes()'. To cite Bioconductor, see\n",
      "    'citation(\"Biobase\")', and for packages 'citation(\"pkgname\")'.\n",
      "\n",
      "\n",
      "\n",
      "Attaching package: ‘Biobase’\n",
      "\n",
      "\n",
      "The following object is masked from ‘package:MatrixGenerics’:\n",
      "\n",
      "    rowMedians\n",
      "\n",
      "\n",
      "The following objects are masked from ‘package:matrixStats’:\n",
      "\n",
      "    anyMissing, rowMedians\n",
      "\n",
      "\n",
      "Loading required package: ggrepel\n",
      "\n",
      "Registered S3 methods overwritten by 'ggalt':\n",
      "  method                  from   \n",
      "  grid.draw.absoluteGrob  ggplot2\n",
      "  grobHeight.absoluteGrob ggplot2\n",
      "  grobWidth.absoluteGrob  ggplot2\n",
      "  grobX.absoluteGrob      ggplot2\n",
      "  grobY.absoluteGrob      ggplot2\n",
      "\n"
     ]
    }
   ],
   "source": [
    "# load libraries\n",
    "library(SummarizedExperiment)\n",
    "library(DESeq2)\n",
    "library(pheatmap)\n",
    "library(ggplot2)\n",
    "library(EnhancedVolcano)"
   ]
  },
  {
   "cell_type": "code",
   "execution_count": 3,
   "id": "a4516a1f",
   "metadata": {},
   "outputs": [],
   "source": [
    "# create function to normalize counts in deseq object\n",
    "\n",
    "# assume rowRanges is a non-empty GRangesList and size factors were already computed (ex: using estimateSizeFactors())\n",
    "normCounts <- function(se) {\n",
    "  gene_length <- sum(width(rowRanges(se)))\n",
    "  counts_norm <- apply(counts(se, normalized = TRUE), 2, \n",
    "                       function(x) {\n",
    "                         1e3 * x / gene_length\n",
    "                       })\n",
    "  assays(se)$counts_norm <- counts_norm\n",
    "  return(se)\n",
    "}\n"
   ]
  },
  {
   "cell_type": "code",
   "execution_count": 4,
   "id": "bc22a472",
   "metadata": {},
   "outputs": [
    {
     "name": "stderr",
     "output_type": "stream",
     "text": [
      "\n",
      "Attaching package: ‘glue’\n",
      "\n",
      "\n",
      "The following object is masked from ‘package:SummarizedExperiment’:\n",
      "\n",
      "    trim\n",
      "\n",
      "\n",
      "The following object is masked from ‘package:GenomicRanges’:\n",
      "\n",
      "    trim\n",
      "\n",
      "\n",
      "The following object is masked from ‘package:IRanges’:\n",
      "\n",
      "    trim\n",
      "\n",
      "\n"
     ]
    }
   ],
   "source": [
    "# get functions from other files\n",
    "\n",
    "# function to create a deseq dataset\n",
    "source(\"/Genomics/pritykinlab/adina/bulkrna-differential-analysis/functions_and_snippets/create_deseq_dataset.R\")\n",
    "\n",
    "# function to get de genes\n",
    "source(\"/Genomics/pritykinlab/adina/bulkrna-differential-analysis/functions_and_snippets/get_de_genes.R\")"
   ]
  },
  {
   "cell_type": "markdown",
   "id": "3f1dcece",
   "metadata": {},
   "source": [
    "## Read data"
   ]
  },
  {
   "cell_type": "code",
   "execution_count": 5,
   "id": "9b04b412",
   "metadata": {},
   "outputs": [],
   "source": [
    "# read in data\n",
    "\n",
    "# define the root directory\n",
    "root = \"/Genomics/pritykinlab/share/eileen-rnaseq/processed\"\n",
    "\n",
    "# read in gene expression data\n",
    "gene_counts <- readRDS(glue('{root}/KP-rna-counts.raw.rds'))\n",
    "\n",
    "# read in gencode\n",
    "gencode <- readRDS(glue('{root}/mm10_gencode.rds'))\n",
    "\n",
    "# read in metadata\n",
    "metadata <- read.csv(glue('{root}/kp_metadata.csv'), check.names = FALSE)\n"
   ]
  },
  {
   "cell_type": "markdown",
   "id": "99f3adee",
   "metadata": {},
   "source": [
    "## Preprocess data"
   ]
  },
  {
   "cell_type": "code",
   "execution_count": 6,
   "id": "e688efad",
   "metadata": {},
   "outputs": [],
   "source": [
    "# prepare collection of all protein-coding exons for genes in gencode\n",
    "exons <- gencode[(gencode$gene_type == 'protein_coding') & (gencode$type == 'exon')]\n",
    "genes <- levels(as.factor(exons$gene_name))\n",
    "exons_genes <- disjoin(split(exons, factor(exons$gene_name, levels = genes)))\n"
   ]
  },
  {
   "cell_type": "code",
   "execution_count": 7,
   "id": "236bdcee",
   "metadata": {},
   "outputs": [],
   "source": [
    "# save the gene counts counts data in a dataframe\n",
    "gene_counts_df <- as.data.frame(gene_counts$counts)\n",
    "\n",
    "# fix the column headers of the gene counts data\n",
    "names(gene_counts_df) <- gsub(\".bam\", \"\", names(gene_counts_df))\n",
    "\n",
    "# put gene counts into a matrix\n",
    "gene_counts_mat <- as.matrix(gene_counts_df)\n",
    "\n",
    "# sort the gene names\n",
    "#gene_names <- sort(rownames(gene_counts_mat))\n",
    "gene_names <- sort(names(exons_genes))\n",
    "\n",
    "# order gene_counts_mat according to sorted rownames\n",
    "gene_counts_mat <- gene_counts_mat[gene_names, ]\n",
    "\n",
    "# sort exons_genes\n",
    "exons_genes <- exons_genes[gene_names]\n"
   ]
  },
  {
   "cell_type": "code",
   "execution_count": 8,
   "id": "dd40f342",
   "metadata": {},
   "outputs": [
    {
     "data": {
      "text/html": [
       "<table class=\"dataframe\">\n",
       "<caption>A data.frame: 6 × 6</caption>\n",
       "<thead>\n",
       "\t<tr><th></th><th scope=col>SampleName</th><th scope=col>Genotype</th><th scope=col>Group</th><th scope=col>Gender</th><th scope=col>BodyWeightLoss</th><th scope=col>Tissue</th></tr>\n",
       "\t<tr><th></th><th scope=col>&lt;chr&gt;</th><th scope=col>&lt;chr&gt;</th><th scope=col>&lt;fct&gt;</th><th scope=col>&lt;fct&gt;</th><th scope=col>&lt;dbl&gt;</th><th scope=col>&lt;chr&gt;</th></tr>\n",
       "</thead>\n",
       "<tbody>\n",
       "\t<tr><th scope=row>8213-P-M-Liver</th><td>8213-P-M-Liver </td><td>Tp53 flox/flox      </td><td>Control  </td><td>M</td><td>       NA</td><td>Liver</td></tr>\n",
       "\t<tr><th scope=row>8233-P-M-Liver</th><td>8233-P-M-Liver </td><td>Tp53 flox/flox      </td><td>Control  </td><td>M</td><td>       NA</td><td>Liver</td></tr>\n",
       "\t<tr><th scope=row>8234-P-M-Liver</th><td>8234-P-M-Liver </td><td>Tp53 flox/flox      </td><td>Control  </td><td>M</td><td>       NA</td><td>Liver</td></tr>\n",
       "\t<tr><th scope=row>8211-KP-M-Liver</th><td>8211-KP-M-Liver</td><td>Kras; Tp53 flox/flox</td><td>Treatment</td><td>M</td><td>-15.80756</td><td>Liver</td></tr>\n",
       "\t<tr><th scope=row>8212-KP-M-Liver</th><td>8212-KP-M-Liver</td><td>Kras; Tp53 flox/flox</td><td>Treatment</td><td>M</td><td>-10.78067</td><td>Liver</td></tr>\n",
       "\t<tr><th scope=row>8231-KP-M-Liver</th><td>8231-KP-M-Liver</td><td>Kras; Tp53 flox/flox</td><td>Treatment</td><td>M</td><td>-10.46931</td><td>Liver</td></tr>\n",
       "</tbody>\n",
       "</table>\n"
      ],
      "text/latex": [
       "A data.frame: 6 × 6\n",
       "\\begin{tabular}{r|llllll}\n",
       "  & SampleName & Genotype & Group & Gender & BodyWeightLoss & Tissue\\\\\n",
       "  & <chr> & <chr> & <fct> & <fct> & <dbl> & <chr>\\\\\n",
       "\\hline\n",
       "\t8213-P-M-Liver & 8213-P-M-Liver  & Tp53 flox/flox       & Control   & M &        NA & Liver\\\\\n",
       "\t8233-P-M-Liver & 8233-P-M-Liver  & Tp53 flox/flox       & Control   & M &        NA & Liver\\\\\n",
       "\t8234-P-M-Liver & 8234-P-M-Liver  & Tp53 flox/flox       & Control   & M &        NA & Liver\\\\\n",
       "\t8211-KP-M-Liver & 8211-KP-M-Liver & Kras; Tp53 flox/flox & Treatment & M & -15.80756 & Liver\\\\\n",
       "\t8212-KP-M-Liver & 8212-KP-M-Liver & Kras; Tp53 flox/flox & Treatment & M & -10.78067 & Liver\\\\\n",
       "\t8231-KP-M-Liver & 8231-KP-M-Liver & Kras; Tp53 flox/flox & Treatment & M & -10.46931 & Liver\\\\\n",
       "\\end{tabular}\n"
      ],
      "text/markdown": [
       "\n",
       "A data.frame: 6 × 6\n",
       "\n",
       "| <!--/--> | SampleName &lt;chr&gt; | Genotype &lt;chr&gt; | Group &lt;fct&gt; | Gender &lt;fct&gt; | BodyWeightLoss &lt;dbl&gt; | Tissue &lt;chr&gt; |\n",
       "|---|---|---|---|---|---|---|\n",
       "| 8213-P-M-Liver | 8213-P-M-Liver  | Tp53 flox/flox       | Control   | M |        NA | Liver |\n",
       "| 8233-P-M-Liver | 8233-P-M-Liver  | Tp53 flox/flox       | Control   | M |        NA | Liver |\n",
       "| 8234-P-M-Liver | 8234-P-M-Liver  | Tp53 flox/flox       | Control   | M |        NA | Liver |\n",
       "| 8211-KP-M-Liver | 8211-KP-M-Liver | Kras; Tp53 flox/flox | Treatment | M | -15.80756 | Liver |\n",
       "| 8212-KP-M-Liver | 8212-KP-M-Liver | Kras; Tp53 flox/flox | Treatment | M | -10.78067 | Liver |\n",
       "| 8231-KP-M-Liver | 8231-KP-M-Liver | Kras; Tp53 flox/flox | Treatment | M | -10.46931 | Liver |\n",
       "\n"
      ],
      "text/plain": [
       "                SampleName      Genotype             Group     Gender\n",
       "8213-P-M-Liver  8213-P-M-Liver  Tp53 flox/flox       Control   M     \n",
       "8233-P-M-Liver  8233-P-M-Liver  Tp53 flox/flox       Control   M     \n",
       "8234-P-M-Liver  8234-P-M-Liver  Tp53 flox/flox       Control   M     \n",
       "8211-KP-M-Liver 8211-KP-M-Liver Kras; Tp53 flox/flox Treatment M     \n",
       "8212-KP-M-Liver 8212-KP-M-Liver Kras; Tp53 flox/flox Treatment M     \n",
       "8231-KP-M-Liver 8231-KP-M-Liver Kras; Tp53 flox/flox Treatment M     \n",
       "                BodyWeightLoss Tissue\n",
       "8213-P-M-Liver         NA      Liver \n",
       "8233-P-M-Liver         NA      Liver \n",
       "8234-P-M-Liver         NA      Liver \n",
       "8211-KP-M-Liver -15.80756      Liver \n",
       "8212-KP-M-Liver -10.78067      Liver \n",
       "8231-KP-M-Liver -10.46931      Liver "
      ]
     },
     "metadata": {},
     "output_type": "display_data"
    }
   ],
   "source": [
    "# set the rownames of the metadata to be the sample names\n",
    "rownames(metadata) <- metadata$SampleName\n",
    "\n",
    "# change columns from characters to factors\n",
    "metadata$Group <- as.factor(metadata$Group)\n",
    "metadata$Gender <- as.factor(metadata$Gender)\n",
    "\n",
    "# view the beginning of the metadata\n",
    "head(metadata)\n"
   ]
  },
  {
   "cell_type": "code",
   "execution_count": 9,
   "id": "a4f37be4",
   "metadata": {},
   "outputs": [],
   "source": [
    "# filter and sort the gene_counts_mat to be in the same order as the metadata\n",
    "# IMPORTANT: the order of the columns of gene_counts_mat needs to be the same as the order of the rows of the metadata!\n",
    "gene_counts_mat <- gene_counts_mat[, metadata$SampleName]\n",
    "\n"
   ]
  },
  {
   "cell_type": "code",
   "execution_count": 10,
   "id": "dcf29b27",
   "metadata": {},
   "outputs": [
    {
     "data": {
      "text/html": [
       "TRUE"
      ],
      "text/latex": [
       "TRUE"
      ],
      "text/markdown": [
       "TRUE"
      ],
      "text/plain": [
       "[1] TRUE"
      ]
     },
     "metadata": {},
     "output_type": "display_data"
    }
   ],
   "source": [
    "# confirm that rows of metadata match columns of gene_counts_mat\n",
    "all(rownames(metadata) == colnames(gene_counts_mat))\n"
   ]
  },
  {
   "cell_type": "markdown",
   "id": "20044f2d",
   "metadata": {},
   "source": [
    "## Liver data"
   ]
  },
  {
   "cell_type": "code",
   "execution_count": 11,
   "id": "000fdbbf",
   "metadata": {},
   "outputs": [],
   "source": [
    "# set condition where tissue is liver\n",
    "liver_cond <- metadata$Tissue == \"Liver\"\n",
    "\n",
    "# get subset of gene_counts_mat where tissue is liver\n",
    "gene_counts_mat_liver <- gene_counts_mat[, metadata[liver_cond, ]$SampleName]\n",
    "\n",
    "# get subset of metadata where tissue is liver\n",
    "metadata_liver <- metadata[liver_cond, ]\n"
   ]
  },
  {
   "cell_type": "code",
   "execution_count": 12,
   "id": "2ed33e84",
   "metadata": {},
   "outputs": [
    {
     "data": {
      "text/html": [
       "TRUE"
      ],
      "text/latex": [
       "TRUE"
      ],
      "text/markdown": [
       "TRUE"
      ],
      "text/plain": [
       "[1] TRUE"
      ]
     },
     "metadata": {},
     "output_type": "display_data"
    }
   ],
   "source": [
    "# confirm that rows of metadata for liver match columns of gene_counts_mat for liver\n",
    "all(rownames(metadata_liver) == colnames(gene_counts_mat_liver))\n"
   ]
  },
  {
   "cell_type": "code",
   "execution_count": 13,
   "id": "e7b9117a",
   "metadata": {},
   "outputs": [],
   "source": [
    "# create summarized experiment object for liver\n",
    "gene_counts_se_liver <- SummarizedExperiment(list(counts = gene_counts_mat_liver), rowRanges = exons_genes)\n",
    "\n",
    "# combine summarized experiment object with metadata\n",
    "colData(gene_counts_se_liver) <- cbind(colData(gene_counts_se_liver), metadata_liver)\n",
    "\n",
    "# remove genes on sex chromosome\n",
    "gene_counts_se_liver_no_sex <- gene_counts_se_liver[all(!seqnames(gene_counts_se_liver) %in% c(\"chrX\", \"chrY\"))]\n"
   ]
  },
  {
   "cell_type": "code",
   "execution_count": 14,
   "id": "4ceba0c5",
   "metadata": {},
   "outputs": [],
   "source": [
    "# deseq (no adjustors)\n",
    "\n",
    "# use create_deseq_dataset() to create deseq object from summarized experiment object\n",
    "dds_liver_no_adj <- create_deseq_dataset(gene_counts_se_liver_no_sex, \"Group\")\n",
    "\n",
    "# get top 5000 genes\n",
    "normalized_counts_liver <- dds_liver_no_adj$normalized_counts[order(-rowMeans(dds_liver_no_adj$normalized_counts)), ][1:5000, ]\n"
   ]
  },
  {
   "cell_type": "code",
   "execution_count": 15,
   "id": "effdd989",
   "metadata": {},
   "outputs": [
    {
     "data": {
      "image/png": "[encoded data removed]",
      "text/plain": [
       "plot without title"
      ]
     },
     "metadata": {
      "image/png": {
       "height": 420,
       "width": 420
      }
     },
     "output_type": "display_data"
    }
   ],
   "source": [
    "# heatmap samples\n",
    "\n",
    "# get normalized counts correlation\n",
    "normalized_counts_cor_liver <- cor(normalized_counts_liver, method = \"spearman\")\n",
    "\n",
    "# create heatmap\n",
    "pheatmap(normalized_counts_cor_liver, color = colorRampPalette(c(\"navy\", \"white\", \"red\"))(100))\n"
   ]
  },
  {
   "cell_type": "markdown",
   "id": "989b28a3",
   "metadata": {},
   "source": [
    "## DESeq"
   ]
  },
  {
   "cell_type": "code",
   "execution_count": 16,
   "id": "0a5ea875",
   "metadata": {},
   "outputs": [
    {
     "name": "stderr",
     "output_type": "stream",
     "text": [
      "using pre-existing size factors\n",
      "\n",
      "estimating dispersions\n",
      "\n",
      "gene-wise dispersion estimates\n",
      "\n",
      "mean-dispersion relationship\n",
      "\n",
      "final dispersion estimates\n",
      "\n",
      "fitting model and testing\n",
      "\n",
      "-- replacing outliers and refitting for 133 genes\n",
      "-- DESeq argument 'minReplicatesForReplace' = 7 \n",
      "-- original counts are preserved in counts(dds)\n",
      "\n",
      "estimating dispersions\n",
      "\n",
      "fitting model and testing\n",
      "\n"
     ]
    },
    {
     "data": {
      "text/html": [
       "<table class=\"dataframe\">\n",
       "<caption>A data.frame: 20 × 6</caption>\n",
       "<thead>\n",
       "\t<tr><th></th><th scope=col>baseMean</th><th scope=col>log2FoldChange</th><th scope=col>lfcSE</th><th scope=col>stat</th><th scope=col>pvalue</th><th scope=col>padj</th></tr>\n",
       "\t<tr><th></th><th scope=col>&lt;dbl&gt;</th><th scope=col>&lt;dbl&gt;</th><th scope=col>&lt;dbl&gt;</th><th scope=col>&lt;dbl&gt;</th><th scope=col>&lt;dbl&gt;</th><th scope=col>&lt;dbl&gt;</th></tr>\n",
       "</thead>\n",
       "<tbody>\n",
       "\t<tr><th scope=row>Aldh1a3</th><td>   31.22912</td><td> 2.7156556</td><td>0.27478599</td><td> 9.882802</td><td>4.943095e-23</td><td>6.642531e-19</td></tr>\n",
       "\t<tr><th scope=row>Tubb2a</th><td>  812.07477</td><td>-2.0588644</td><td>0.21072081</td><td>-9.770580</td><td>1.505882e-22</td><td>1.011802e-18</td></tr>\n",
       "\t<tr><th scope=row>Isyna1</th><td>  268.98664</td><td> 1.7590313</td><td>0.20589665</td><td> 8.543273</td><td>1.304728e-17</td><td>4.383235e-14</td></tr>\n",
       "\t<tr><th scope=row>Tmem176b</th><td> 4505.89311</td><td> 0.8183869</td><td>0.09549021</td><td> 8.570375</td><td>1.031486e-17</td><td>4.383235e-14</td></tr>\n",
       "\t<tr><th scope=row>Tmem176a</th><td> 3609.70089</td><td> 0.8111458</td><td>0.09784581</td><td> 8.290042</td><td>1.132087e-16</td><td>3.042596e-13</td></tr>\n",
       "\t<tr><th scope=row>Lcn2</th><td> 1524.44870</td><td> 3.4092831</td><td>0.42079418</td><td> 8.102020</td><td>5.405384e-16</td><td>1.210626e-12</td></tr>\n",
       "\t<tr><th scope=row>Syne4</th><td>   57.31612</td><td> 2.3831875</td><td>0.30691019</td><td> 7.765097</td><td>8.158252e-15</td><td>1.566151e-11</td></tr>\n",
       "\t<tr><th scope=row>Prtn3</th><td>  524.20480</td><td> 3.5452951</td><td>0.46592916</td><td> 7.609086</td><td>2.760408e-14</td><td>4.636795e-11</td></tr>\n",
       "\t<tr><th scope=row>Marco</th><td>  360.47309</td><td> 1.9060041</td><td>0.25738274</td><td> 7.405330</td><td>1.308249e-13</td><td>1.953362e-10</td></tr>\n",
       "\t<tr><th scope=row>Me1</th><td> 1710.59661</td><td>-1.0916749</td><td>0.15008443</td><td>-7.273739</td><td>3.496723e-13</td><td>4.698896e-10</td></tr>\n",
       "\t<tr><th scope=row>Cfh</th><td>13512.85218</td><td> 1.0160783</td><td>0.14025321</td><td> 7.244599</td><td>4.337204e-13</td><td>5.298486e-10</td></tr>\n",
       "\t<tr><th scope=row>Slc13a5</th><td>   50.86252</td><td> 1.9169689</td><td>0.27306892</td><td> 7.020092</td><td>2.217225e-12</td><td>2.482923e-09</td></tr>\n",
       "\t<tr><th scope=row>Orm2</th><td> 1708.34758</td><td> 2.6487312</td><td>0.38326339</td><td> 6.910995</td><td>4.812674e-12</td><td>4.974824e-09</td></tr>\n",
       "\t<tr><th scope=row>Aqp8</th><td> 1537.46802</td><td>-1.7297120</td><td>0.25212324</td><td>-6.860581</td><td>6.858088e-12</td><td>6.582785e-09</td></tr>\n",
       "\t<tr><th scope=row>Kng1</th><td>33889.09952</td><td> 0.6822205</td><td>0.10116159</td><td> 6.743869</td><td>1.542233e-11</td><td>1.381635e-08</td></tr>\n",
       "\t<tr><th scope=row>Creld2</th><td>  576.40142</td><td>-1.2079125</td><td>0.18277140</td><td>-6.608870</td><td>3.872634e-11</td><td>3.252529e-08</td></tr>\n",
       "\t<tr><th scope=row>Tgfbi</th><td>  854.31872</td><td> 0.8898486</td><td>0.13647482</td><td> 6.520240</td><td>7.019498e-11</td><td>5.548707e-08</td></tr>\n",
       "\t<tr><th scope=row>Clpx</th><td> 1946.12509</td><td>-1.3266125</td><td>0.20608966</td><td>-6.437065</td><td>1.218058e-10</td><td>9.093480e-08</td></tr>\n",
       "\t<tr><th scope=row>Clca3a1</th><td>  209.85522</td><td> 2.0385241</td><td>0.32525115</td><td> 6.267538</td><td>3.668000e-10</td><td>2.594242e-07</td></tr>\n",
       "\t<tr><th scope=row>Fgl1</th><td>22725.46262</td><td> 1.6613937</td><td>0.27308984</td><td> 6.083689</td><td>1.174483e-09</td><td>7.891353e-07</td></tr>\n",
       "</tbody>\n",
       "</table>\n"
      ],
      "text/latex": [
       "A data.frame: 20 × 6\n",
       "\\begin{tabular}{r|llllll}\n",
       "  & baseMean & log2FoldChange & lfcSE & stat & pvalue & padj\\\\\n",
       "  & <dbl> & <dbl> & <dbl> & <dbl> & <dbl> & <dbl>\\\\\n",
       "\\hline\n",
       "\tAldh1a3 &    31.22912 &  2.7156556 & 0.27478599 &  9.882802 & 4.943095e-23 & 6.642531e-19\\\\\n",
       "\tTubb2a &   812.07477 & -2.0588644 & 0.21072081 & -9.770580 & 1.505882e-22 & 1.011802e-18\\\\\n",
       "\tIsyna1 &   268.98664 &  1.7590313 & 0.20589665 &  8.543273 & 1.304728e-17 & 4.383235e-14\\\\\n",
       "\tTmem176b &  4505.89311 &  0.8183869 & 0.09549021 &  8.570375 & 1.031486e-17 & 4.383235e-14\\\\\n",
       "\tTmem176a &  3609.70089 &  0.8111458 & 0.09784581 &  8.290042 & 1.132087e-16 & 3.042596e-13\\\\\n",
       "\tLcn2 &  1524.44870 &  3.4092831 & 0.42079418 &  8.102020 & 5.405384e-16 & 1.210626e-12\\\\\n",
       "\tSyne4 &    57.31612 &  2.3831875 & 0.30691019 &  7.765097 & 8.158252e-15 & 1.566151e-11\\\\\n",
       "\tPrtn3 &   524.20480 &  3.5452951 & 0.46592916 &  7.609086 & 2.760408e-14 & 4.636795e-11\\\\\n",
       "\tMarco &   360.47309 &  1.9060041 & 0.25738274 &  7.405330 & 1.308249e-13 & 1.953362e-10\\\\\n",
       "\tMe1 &  1710.59661 & -1.0916749 & 0.15008443 & -7.273739 & 3.496723e-13 & 4.698896e-10\\\\\n",
       "\tCfh & 13512.85218 &  1.0160783 & 0.14025321 &  7.244599 & 4.337204e-13 & 5.298486e-10\\\\\n",
       "\tSlc13a5 &    50.86252 &  1.9169689 & 0.27306892 &  7.020092 & 2.217225e-12 & 2.482923e-09\\\\\n",
       "\tOrm2 &  1708.34758 &  2.6487312 & 0.38326339 &  6.910995 & 4.812674e-12 & 4.974824e-09\\\\\n",
       "\tAqp8 &  1537.46802 & -1.7297120 & 0.25212324 & -6.860581 & 6.858088e-12 & 6.582785e-09\\\\\n",
       "\tKng1 & 33889.09952 &  0.6822205 & 0.10116159 &  6.743869 & 1.542233e-11 & 1.381635e-08\\\\\n",
       "\tCreld2 &   576.40142 & -1.2079125 & 0.18277140 & -6.608870 & 3.872634e-11 & 3.252529e-08\\\\\n",
       "\tTgfbi &   854.31872 &  0.8898486 & 0.13647482 &  6.520240 & 7.019498e-11 & 5.548707e-08\\\\\n",
       "\tClpx &  1946.12509 & -1.3266125 & 0.20608966 & -6.437065 & 1.218058e-10 & 9.093480e-08\\\\\n",
       "\tClca3a1 &   209.85522 &  2.0385241 & 0.32525115 &  6.267538 & 3.668000e-10 & 2.594242e-07\\\\\n",
       "\tFgl1 & 22725.46262 &  1.6613937 & 0.27308984 &  6.083689 & 1.174483e-09 & 7.891353e-07\\\\\n",
       "\\end{tabular}\n"
      ],
      "text/markdown": [
       "\n",
       "A data.frame: 20 × 6\n",
       "\n",
       "| <!--/--> | baseMean &lt;dbl&gt; | log2FoldChange &lt;dbl&gt; | lfcSE &lt;dbl&gt; | stat &lt;dbl&gt; | pvalue &lt;dbl&gt; | padj &lt;dbl&gt; |\n",
       "|---|---|---|---|---|---|---|\n",
       "| Aldh1a3 |    31.22912 |  2.7156556 | 0.27478599 |  9.882802 | 4.943095e-23 | 6.642531e-19 |\n",
       "| Tubb2a |   812.07477 | -2.0588644 | 0.21072081 | -9.770580 | 1.505882e-22 | 1.011802e-18 |\n",
       "| Isyna1 |   268.98664 |  1.7590313 | 0.20589665 |  8.543273 | 1.304728e-17 | 4.383235e-14 |\n",
       "| Tmem176b |  4505.89311 |  0.8183869 | 0.09549021 |  8.570375 | 1.031486e-17 | 4.383235e-14 |\n",
       "| Tmem176a |  3609.70089 |  0.8111458 | 0.09784581 |  8.290042 | 1.132087e-16 | 3.042596e-13 |\n",
       "| Lcn2 |  1524.44870 |  3.4092831 | 0.42079418 |  8.102020 | 5.405384e-16 | 1.210626e-12 |\n",
       "| Syne4 |    57.31612 |  2.3831875 | 0.30691019 |  7.765097 | 8.158252e-15 | 1.566151e-11 |\n",
       "| Prtn3 |   524.20480 |  3.5452951 | 0.46592916 |  7.609086 | 2.760408e-14 | 4.636795e-11 |\n",
       "| Marco |   360.47309 |  1.9060041 | 0.25738274 |  7.405330 | 1.308249e-13 | 1.953362e-10 |\n",
       "| Me1 |  1710.59661 | -1.0916749 | 0.15008443 | -7.273739 | 3.496723e-13 | 4.698896e-10 |\n",
       "| Cfh | 13512.85218 |  1.0160783 | 0.14025321 |  7.244599 | 4.337204e-13 | 5.298486e-10 |\n",
       "| Slc13a5 |    50.86252 |  1.9169689 | 0.27306892 |  7.020092 | 2.217225e-12 | 2.482923e-09 |\n",
       "| Orm2 |  1708.34758 |  2.6487312 | 0.38326339 |  6.910995 | 4.812674e-12 | 4.974824e-09 |\n",
       "| Aqp8 |  1537.46802 | -1.7297120 | 0.25212324 | -6.860581 | 6.858088e-12 | 6.582785e-09 |\n",
       "| Kng1 | 33889.09952 |  0.6822205 | 0.10116159 |  6.743869 | 1.542233e-11 | 1.381635e-08 |\n",
       "| Creld2 |   576.40142 | -1.2079125 | 0.18277140 | -6.608870 | 3.872634e-11 | 3.252529e-08 |\n",
       "| Tgfbi |   854.31872 |  0.8898486 | 0.13647482 |  6.520240 | 7.019498e-11 | 5.548707e-08 |\n",
       "| Clpx |  1946.12509 | -1.3266125 | 0.20608966 | -6.437065 | 1.218058e-10 | 9.093480e-08 |\n",
       "| Clca3a1 |   209.85522 |  2.0385241 | 0.32525115 |  6.267538 | 3.668000e-10 | 2.594242e-07 |\n",
       "| Fgl1 | 22725.46262 |  1.6613937 | 0.27308984 |  6.083689 | 1.174483e-09 | 7.891353e-07 |\n",
       "\n"
      ],
      "text/plain": [
       "         baseMean    log2FoldChange lfcSE      stat      pvalue      \n",
       "Aldh1a3     31.22912  2.7156556     0.27478599  9.882802 4.943095e-23\n",
       "Tubb2a     812.07477 -2.0588644     0.21072081 -9.770580 1.505882e-22\n",
       "Isyna1     268.98664  1.7590313     0.20589665  8.543273 1.304728e-17\n",
       "Tmem176b  4505.89311  0.8183869     0.09549021  8.570375 1.031486e-17\n",
       "Tmem176a  3609.70089  0.8111458     0.09784581  8.290042 1.132087e-16\n",
       "Lcn2      1524.44870  3.4092831     0.42079418  8.102020 5.405384e-16\n",
       "Syne4       57.31612  2.3831875     0.30691019  7.765097 8.158252e-15\n",
       "Prtn3      524.20480  3.5452951     0.46592916  7.609086 2.760408e-14\n",
       "Marco      360.47309  1.9060041     0.25738274  7.405330 1.308249e-13\n",
       "Me1       1710.59661 -1.0916749     0.15008443 -7.273739 3.496723e-13\n",
       "Cfh      13512.85218  1.0160783     0.14025321  7.244599 4.337204e-13\n",
       "Slc13a5     50.86252  1.9169689     0.27306892  7.020092 2.217225e-12\n",
       "Orm2      1708.34758  2.6487312     0.38326339  6.910995 4.812674e-12\n",
       "Aqp8      1537.46802 -1.7297120     0.25212324 -6.860581 6.858088e-12\n",
       "Kng1     33889.09952  0.6822205     0.10116159  6.743869 1.542233e-11\n",
       "Creld2     576.40142 -1.2079125     0.18277140 -6.608870 3.872634e-11\n",
       "Tgfbi      854.31872  0.8898486     0.13647482  6.520240 7.019498e-11\n",
       "Clpx      1946.12509 -1.3266125     0.20608966 -6.437065 1.218058e-10\n",
       "Clca3a1    209.85522  2.0385241     0.32525115  6.267538 3.668000e-10\n",
       "Fgl1     22725.46262  1.6613937     0.27308984  6.083689 1.174483e-09\n",
       "         padj        \n",
       "Aldh1a3  6.642531e-19\n",
       "Tubb2a   1.011802e-18\n",
       "Isyna1   4.383235e-14\n",
       "Tmem176b 4.383235e-14\n",
       "Tmem176a 3.042596e-13\n",
       "Lcn2     1.210626e-12\n",
       "Syne4    1.566151e-11\n",
       "Prtn3    4.636795e-11\n",
       "Marco    1.953362e-10\n",
       "Me1      4.698896e-10\n",
       "Cfh      5.298486e-10\n",
       "Slc13a5  2.482923e-09\n",
       "Orm2     4.974824e-09\n",
       "Aqp8     6.582785e-09\n",
       "Kng1     1.381635e-08\n",
       "Creld2   3.252529e-08\n",
       "Tgfbi    5.548707e-08\n",
       "Clpx     9.093480e-08\n",
       "Clca3a1  2.594242e-07\n",
       "Fgl1     7.891353e-07"
      ]
     },
     "metadata": {},
     "output_type": "display_data"
    }
   ],
   "source": [
    "# deseq (no adjustors)\n",
    "\n",
    "# use get_de_genes() to get de genes (deseq object created above)\n",
    "res_liver_no_adj <- get_de_genes(dds_liver_no_adj$dds, \"Group\", \"Treatment\", \"Control\")\n",
    "\n",
    "# sort results\n",
    "res_liver_no_adj_ordered <- res_liver_no_adj$res[order(res_liver_no_adj$res$padj),]\n",
    "\n",
    "# view the results\n",
    "View(head(as.data.frame(res_liver_no_adj_ordered), 20))\n",
    "\n",
    "# save results to csv file\n",
    "write.csv(as.data.frame(res_liver_no_adj_ordered), file = \"res_liver_no_adj_ordered.csv\")\n"
   ]
  },
  {
   "cell_type": "code",
   "execution_count": null,
   "id": "7c3906a9",
   "metadata": {},
   "outputs": [
    {
     "name": "stderr",
     "output_type": "stream",
     "text": [
      "using pre-existing size factors\n",
      "\n",
      "estimating dispersions\n",
      "\n",
      "gene-wise dispersion estimates\n",
      "\n",
      "mean-dispersion relationship\n",
      "\n",
      "final dispersion estimates\n",
      "\n",
      "fitting model and testing\n",
      "\n"
     ]
    }
   ],
   "source": [
    "# deseq (adjusted for gender)\n",
    "\n",
    "# use create_deseq_dataset() to create deseq object from summarized experiment object\n",
    "dds_liver_adj_gender <- create_deseq_dataset(gene_counts_se_liver_no_sex, \"Group\", \"Gender\")\n",
    "\n",
    "# use get_de_genes() to get de genes\n",
    "res_liver_adj_gender <- get_de_genes(dds_liver_adj_gender$dds, \"Group\", \"Treatment\", \"Control\")\n",
    "\n",
    "# sort results\n",
    "res_liver_adj_gender_ordered <- res_liver_adj_gender$res[order(res_liver_adj_gender$res$padj),]\n",
    "\n",
    "# view the results\n",
    "View(head(as.data.frame(res_liver_adj_gender_ordered), 20))\n",
    "\n",
    "# save results to csv file\n",
    "write.csv(as.data.frame(res_liver_adj_gender_ordered), file = \"res_liver_adj_gender_ordered.csv\")\n"
   ]
  },
  {
   "cell_type": "markdown",
   "id": "e0dd556a",
   "metadata": {},
   "source": [
    "## PCA"
   ]
  },
  {
   "cell_type": "code",
   "execution_count": null,
   "id": "33b6d971",
   "metadata": {
    "scrolled": true
   },
   "outputs": [],
   "source": [
    "# pca plot (no adjustors)\n",
    "\n",
    "# transform data to use in plot\n",
    "vsd <- varianceStabilizingTransformation(dds_liver_no_adj$dds, blind = FALSE)\n",
    "\n",
    "# create PCA plot\n",
    "pcaData_liver <- plotPCA(vsd, intgroup = c(\"Group\", \"Gender\"), returnData = TRUE)\n",
    "\n",
    "# get the percent variance from PCA plot\n",
    "percentVar <- round(100 * attr(pcaData_liver, \"percentVar\"), digits = 2)\n",
    "\n",
    "# format plot\n",
    "ggplot(pcaData_liver, aes(x = PC1, y = PC2, color = Group, shape = Gender)) + \n",
    "    geom_point() +\n",
    "    labs(x = paste0(\"PC1: \", percentVar[1], \"% variance\"),\n",
    "         y = paste0(\"PC2: \", percentVar[2], \"% variance\"),\n",
    "         color = \"Group\",\n",
    "         shape = \"Gender\") +\n",
    "    scale_color_manual(values = c(\"palegreen3\", \"lightblue4\")) +\n",
    "    ggtitle(\"PCA\")\n"
   ]
  },
  {
   "cell_type": "markdown",
   "id": "91bb4366",
   "metadata": {},
   "source": [
    "## Heatmap genes"
   ]
  },
  {
   "cell_type": "code",
   "execution_count": null,
   "id": "bc21032d",
   "metadata": {},
   "outputs": [],
   "source": [
    "# heatmap genes (no adjustors)\n",
    "\n",
    "# get subset of results where padj < 0.05\n",
    "res_liver_hm_no_adj <- subset(res_liver_no_adj_ordered, padj < 0.05)\n",
    "\n",
    "# sort results into descending LFC\n",
    "res_liver_hm_no_adj <- res_liver_hm_no_adj[abs(res_liver_hm_no_adj$log2FoldChange) > 1, ]\n",
    "\n",
    "# convert results to a dataframe\n",
    "res_liver_hm_no_adj_df <- as.data.frame(res_liver_hm_no_adj)\n",
    "\n",
    "# get counts that correspond to significant genes\n",
    "mat_liver_hm_no_adj <- counts(dds_liver_no_adj$dds, normalized = TRUE)[rownames(res_liver_hm_no_adj_df), ]\n",
    "\n",
    "# create dataframe for annotations\n",
    "samples_list_liver_no_adj <- colnames(mat_liver_hm_no_adj)\n",
    "samples_list_liver_no_adj_df <- metadata_liver[metadata_liver$SampleName %in% samples_list_liver_no_adj,]\n",
    "samples_list_liver_no_adj_df_tmp <- data.frame(samples_list_liver_no_adj_df[, c(\"Group\", \"Gender\")])\n",
    "rownames(samples_list_liver_no_adj_df_tmp) <- samples_list_liver_no_adj_df$SampleName\n",
    "samples_list_liver_no_adj_df <- samples_list_liver_no_adj_df_tmp\n",
    "colnames(samples_list_liver_no_adj_df) <- c(\"Group\", \"Gender\")\n",
    "\n",
    "# create list of annotation colors\n",
    "ann_colors_liver_no_adj <- list(Group = c(Treatment = \"lightblue4\", Control = \"palegreen3\"),\n",
    "    Gender = c(M = \"lightskyblue2\", F = \"lightpink1\"))\n",
    "\n",
    "# heatmap\n",
    "pheatmap(mat_liver_hm_no_adj, scale = \"row\", color = colorRampPalette(c(\"navy\", \"white\", \"red\"))(50), \n",
    "         annotation_col = samples_list_liver_no_adj_df, annotation_colors = ann_colors_liver_no_adj, \n",
    "         show_rownames = FALSE, main = \"Liver Heatmap (no adjustors)\")\n"
   ]
  },
  {
   "cell_type": "code",
   "execution_count": null,
   "id": "7d072194",
   "metadata": {},
   "outputs": [],
   "source": [
    "# heatmap genes (adj for gender)\n",
    "\n",
    "# get subset of results where padj < 0.05\n",
    "res_liver_hm_adj_gender <- subset(res_liver_adj_gender_ordered, padj < 0.05)\n",
    "\n",
    "# sort results into descending LFC\n",
    "res_liver_hm_adj_gender <- res_liver_hm_adj_gender[abs(res_liver_hm_adj_gender$log2FoldChange) > 1, ]\n",
    "\n",
    "# convert results to a dataframe\n",
    "res_liver_hm_adj_gender_df <- as.data.frame(res_liver_hm_adj_gender)\n",
    "\n",
    "# get counts that correspond to significant genes\n",
    "mat_liver_hm_adj_gender <- counts(dds_liver_adj_gender$dds, normalized = TRUE)[rownames(res_liver_hm_adj_gender_df), ]\n",
    "\n",
    "# create dataframe for annotations\n",
    "samples_list_liver_adj_gender <- colnames(mat_liver_hm_adj_gender)\n",
    "samples_list_liver_adj_gender_df <- metadata_liver[metadata_liver$SampleName %in% samples_list_liver_adj_gender,]\n",
    "samples_list_liver_adj_gender_df_tmp <- data.frame(samples_list_liver_adj_gender_df[, c(\"Group\", \"Gender\")])\n",
    "rownames(samples_list_liver_adj_gender_df_tmp) <- samples_list_liver_adj_gender_df$SampleName\n",
    "samples_list_liver_adj_gender_df <- samples_list_liver_adj_gender_df_tmp\n",
    "colnames(samples_list_liver_adj_gender_df) <- c(\"Group\", \"Gender\")\n",
    "\n",
    "# create list of annotation colors\n",
    "ann_colors_liver_adj_gender <- list(Group = c(Treatment = \"lightblue4\", Control = \"palegreen3\"),\n",
    "    Gender = c(M = \"lightskyblue2\", F = \"lightpink1\"))\n",
    "\n",
    "# heatmap\n",
    "pheatmap(mat_liver_hm_adj_gender, scale = \"row\", color = colorRampPalette(c(\"navy\", \"white\", \"red\"))(50), \n",
    "         annotation_col = samples_list_liver_adj_gender_df, annotation_colors = ann_colors_liver_adj_gender, \n",
    "         show_rownames = FALSE, main = \"Liver Heatmap (adj for Gender)\")\n"
   ]
  },
  {
   "cell_type": "markdown",
   "id": "f553bbcc",
   "metadata": {},
   "source": [
    "## Volcano plots"
   ]
  },
  {
   "cell_type": "code",
   "execution_count": null,
   "id": "bee1c54a",
   "metadata": {},
   "outputs": [],
   "source": [
    "# enlarge the frame of the plot\n",
    "options(repr.plot.width = 20, repr.plot.height = 15)\n",
    "\n",
    "# volcano plot with no adjustors\n",
    "EnhancedVolcano(res_liver_no_adj$res, lab = rownames(res_liver_no_adj$res), x = \"log2FoldChange\", y = \"padj\", drawConnectors = TRUE, title = \"Volcano plot\")\n"
   ]
  },
  {
   "cell_type": "code",
   "execution_count": null,
   "id": "fc184a66",
   "metadata": {},
   "outputs": [],
   "source": []
  }
 ],
 "metadata": {
  "kernelspec": {
   "display_name": "deseq2",
   "language": "R",
   "name": "deseq2"
  },
  "language_info": {
   "codemirror_mode": "r",
   "file_extension": ".r",
   "mimetype": "text/x-r-source",
   "name": "R",
   "pygments_lexer": "r",
   "version": "4.1.3"
  }
 },
 "nbformat": 4,
 "nbformat_minor": 5
}
